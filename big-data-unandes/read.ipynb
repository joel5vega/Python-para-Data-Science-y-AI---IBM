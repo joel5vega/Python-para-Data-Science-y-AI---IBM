import pandas as pd
parquet